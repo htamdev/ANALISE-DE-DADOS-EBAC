{
  "nbformat": 4,
  "nbformat_minor": 0,
  "metadata": {
    "colab": {
      "provenance": []
    },
    "kernelspec": {
      "name": "python3",
      "display_name": "Python 3"
    },
    "language_info": {
      "name": "python"
    }
  },
  "cells": [
    {
      "cell_type": "markdown",
      "source": [
        "# **🚀 Variaveis e Textos**"
      ],
      "metadata": {
        "id": "7TFtOybqM7eL"
      }
    },
    {
      "cell_type": "code",
      "source": [
        "print(\"Conhecendo o comando print\")"
      ],
      "metadata": {
        "id": "RYvRJMspM7Ik",
        "colab": {
          "base_uri": "https://localhost:8080/"
        },
        "outputId": "7891d97d-a426-45fb-fede-92896bcdcea7"
      },
      "execution_count": 20,
      "outputs": [
        {
          "output_type": "stream",
          "name": "stdout",
          "text": [
            "Conhecendo o comando print\n"
          ]
        }
      ]
    },
    {
      "cell_type": "code",
      "source": [
        "x = 20\n",
        "type(x)\n",
        "print('x', type(x))\n",
        "\n",
        "nome = 'Matheus'\n",
        "print('Nome', type(nome))\n",
        "\n",
        "num = '200'\n",
        "num_convert = int(num)\n",
        "print('num', type(num_convert))\n",
        "\n",
        "num_float = float(num)\n",
        "print('num_float', num_float)"
      ],
      "metadata": {
        "colab": {
          "base_uri": "https://localhost:8080/"
        },
        "id": "wHzoVMz3NJlJ",
        "outputId": "a75b2e15-c751-4d48-a294-014208cd56cf"
      },
      "execution_count": 21,
      "outputs": [
        {
          "output_type": "stream",
          "name": "stdout",
          "text": [
            "x <class 'int'>\n",
            "Nome <class 'str'>\n",
            "num <class 'int'>\n",
            "num_float 200.0\n"
          ]
        }
      ]
    },
    {
      "cell_type": "markdown",
      "source": [
        "# **♟Condição e Validação**"
      ],
      "metadata": {
        "id": "b7MF0mr_OKgc"
      }
    },
    {
      "cell_type": "code",
      "source": [
        "while True:\n",
        "    try:\n",
        "        idade = int(input(\"Digite sua idade: \"))\n",
        "        if idade > 0:\n",
        "            print(\"Idade válida!\")\n",
        "            break\n",
        "        else:\n",
        "            print(\"A idade deve ser maior que zero!\")\n",
        "    except ValueError:\n",
        "        print(\"Erro! Digite um número inteiro válido.\")"
      ],
      "metadata": {
        "id": "DfGd6tlxbd5F"
      },
      "execution_count": null,
      "outputs": []
    },
    {
      "cell_type": "markdown",
      "source": [
        "#**✅ Verificação e Exibição**"
      ],
      "metadata": {
        "id": "OewuGWb8ZzKO"
      }
    },
    {
      "cell_type": "code",
      "source": [
        "usuario = {\n",
        "    \"Nome\": input(\"Nome: \"),\n",
        "    \"Sobrenome\": input(\"Sobrenome: \"),\n",
        "    \"Idade\": input(\"Idade: \"),\n",
        "    \"Email\": input(\"Email: \"),\n",
        "    \"Cidade\": input(\"Cidade: \"),\n",
        "    \"Estado\": input(\"Estado: \"),\n",
        "    \"País\": input(\"País: \")\n",
        "}\n",
        "\n",
        "if all(usuario.values()):\n",
        "    print(\"Cadastro concluído!\")\n",
        "else:\n",
        "    print(\"Preencha todos os dados!\")\n",
        "\n",
        "print(usuario)"
      ],
      "metadata": {
        "colab": {
          "base_uri": "https://localhost:8080/"
        },
        "id": "4-qRX3dNaH9W",
        "outputId": "7a4b07ff-e177-47fe-c8dd-63cefa26cf89"
      },
      "execution_count": 24,
      "outputs": [
        {
          "output_type": "stream",
          "name": "stdout",
          "text": [
            "Nome: math\n",
            "Sobrenome: souza\n",
            "Idade: 18\n",
            "Email: ss\n",
            "Cidade: dd\n",
            "Estado: ss\n",
            "País: aa\n",
            "Cadastro concluído!\n",
            "{'Nome': 'math', 'Sobrenome': 'souza', 'Idade': '18', 'Email': 'ss', 'Cidade': 'dd', 'Estado': 'ss', 'País': 'aa'}\n"
          ]
        }
      ]
    },
    {
      "cell_type": "markdown",
      "source": [
        "#**🧮 Calculadora Simples**"
      ],
      "metadata": {
        "id": "Schk6u5lTbK2"
      }
    },
    {
      "cell_type": "code",
      "source": [
        "num1 = float(input(\"Digite o primeiro número: \"))\n",
        "num2 = float(input(\"Digite o segundo número: \"))"
      ],
      "metadata": {
        "colab": {
          "base_uri": "https://localhost:8080/"
        },
        "id": "JUya9-EET0qv",
        "outputId": "7a309f49-6276-412d-8b69-959448169964"
      },
      "execution_count": 17,
      "outputs": [
        {
          "name": "stdout",
          "output_type": "stream",
          "text": [
            "Digite o primeiro número: 10\n",
            "Digite o segundo número: 20\n"
          ]
        }
      ]
    },
    {
      "cell_type": "code",
      "source": [
        "def calcular(a, b, op):\n",
        "    if op == '+': return a + b\n",
        "    if op == '-': return a - b\n",
        "    if op == '*': return a * b\n",
        "    if op == '/': return a / b if b != 0 else \"Erro: divisão por zero!\""
      ],
      "metadata": {
        "id": "VMc-3OgkT6_x"
      },
      "execution_count": 18,
      "outputs": []
    },
    {
      "cell_type": "code",
      "source": [
        "while True:\n",
        "    oper = input(\"Operação (+, -, *, /) ou 'sair': \")\n",
        "    if oper.lower() == 'sair':\n",
        "      break\n",
        "    print('Resultado: ')\n",
        "    print(calcular(num1, num2, op))"
      ],
      "metadata": {
        "colab": {
          "base_uri": "https://localhost:8080/"
        },
        "id": "j4gs1lKaT8Hh",
        "outputId": "cb4cfa58-e988-44aa-d899-93e86ddd0ec6"
      },
      "execution_count": 19,
      "outputs": [
        {
          "name": "stdout",
          "output_type": "stream",
          "text": [
            "Operação (+, -, *, /) ou 'sair': sair\n"
          ]
        }
      ]
    },
    {
      "cell_type": "markdown",
      "source": [
        "####**Exemplo:**\n",
        "\n",
        "######Operação: +  \n",
        "######resultado: <br> 15.0  \n",
        "######Operação: sair"
      ],
      "metadata": {
        "id": "NLaOLwUsT-Y5"
      }
    },
    {
      "cell_type": "code",
      "source": [
        "while True:\n",
        "    try:\n",
        "        idade = int(input(\"Idade: \"))\n",
        "        if idade >= 0: break\n",
        "        print(\"A idade não pode ser negativa!\")\n",
        "    except ValueError:\n",
        "        print(\"Digite um número válido!\")\n"
      ],
      "metadata": {
        "id": "chy_tCdBOW1p",
        "colab": {
          "base_uri": "https://localhost:8080/"
        },
        "outputId": "e0f29499-7b8d-460b-8333-dbb2408cf350"
      },
      "execution_count": 22,
      "outputs": [
        {
          "name": "stdout",
          "output_type": "stream",
          "text": [
            "Idade: 18\n"
          ]
        }
      ]
    },
    {
      "cell_type": "markdown",
      "source": [
        "#**📒 Exercício > 1.14**\n",
        "#####• Módulo 1 - Aula 14 <br> *(1.14)*\n",
        "\n"
      ],
      "metadata": {
        "id": "61ACdhIZQwf0"
      }
    },
    {
      "cell_type": "code",
      "source": [
        "print('Olá! Digite suas informações pessoais para continuar!\\n')\n",
        "\n",
        "lista_cli = {}  # Inicia a lista\n",
        "\n",
        "nome_usuario = input('Digite o primeiro nome: ')\n",
        "sobrenome_usuario = input('Digite seu sobrenome: ')\n",
        "\n",
        "# Loop para validar a idade\n",
        "while True:\n",
        "    try:\n",
        "        idade_usuario = int(input('Qual é a sua idade? '))\n",
        "        if idade_usuario >= 0:\n",
        "            break  # Se número é válido, sai do loop\n",
        "        else:\n",
        "            print('A idade não pode ser negativa! Tente novamente.')\n",
        "    except ValueError:\n",
        "        print('Erro! Digite um número inteiro válido para a idade.')\n",
        "\n",
        "email_usuario = input('Qual o seu melhor email válido? ')\n",
        "cidade_usuario = input('Em qual cidade você reside? ')\n",
        "estado_usuario = input('Em qual estado você mora? ')\n",
        "pais_usuario = input('Em qual país você reside? ')\n",
        "\n",
        "# Adiciona informações ao dicionário\n",
        "lista_cli['Nome'] = nome_usuario\n",
        "lista_cli['Sobrenome'] = sobrenome_usuario\n",
        "lista_cli['Idade'] = idade_usuario\n",
        "lista_cli['Email'] = email_usuario\n",
        "lista_cli['Cidade'] = cidade_usuario\n",
        "lista_cli['Estado'] = estado_usuario\n",
        "lista_cli['País'] = pais_usuario\n",
        "\n",
        "# Verifica se todos os valores foram preenchidos corretamente\n",
        "if all(value.strip() for value in lista_cli.values() if isinstance(value, str)):\n",
        "    print('Usuário cadastrado com sucesso!')\n",
        "else:\n",
        "    print('Por favor, forneça todos os dados solicitados!')\n",
        "\n",
        "print('\\nDados do usuário:')\n",
        "print('')\n",
        "print(lista_cli)\n",
        "\n",
        "# --- Cálculo de Idade ---\n",
        "print(\"\\nAgora, vamos verificar a diferença de idade entre você e outra pessoa.\\n\")\n",
        "\n",
        "# Loop que valida a segunda idade\n",
        "while True:\n",
        "    try:\n",
        "        idade_outro = int(input(\"Digite a idade de outra pessoa para comparar: \"))\n",
        "        if idade_outro >= 0:\n",
        "            break  # Se válido, sai do loop\n",
        "        else:\n",
        "            print('A idade não pode ser negativa! Tente novamente.')\n",
        "    except ValueError:\n",
        "        print('Erro! Digite um número inteiro válido para a idade.')\n",
        "\n",
        "# Cálculos matemáticos\n",
        "diferenca = abs(idade_usuario - idade_outro)  # Diferença absoluta\n",
        "soma = idade_usuario + idade_outro  # Soma das idades\n",
        "media = (idade_usuario + idade_outro) / 2  # Média das idades\n",
        "multiplicacao = idade_usuario * idade_outro  # Multiplicação das idades\n",
        "\n",
        "# Exibe os resultados das operações\n",
        "# Utilizando 'print(f' para eficiência e formatação\n",
        "print(f\"\\n{nome_usuario}, veja os cálculos baseados nas idades fornecidas:\")\n",
        "print(f\"- Diferença de idade: {diferenca} anos.\")\n",
        "print(f\"- Soma das idades: {soma} anos.\")\n",
        "print(f\"- Média das idades: {media:.2f} anos.\")\n",
        "print(f\"- Multiplicação das idades: {multiplicacao}.\")\n",
        "\n",
        "# Compara as idades\n",
        "if idade_usuario > idade_outro:\n",
        "    print('')\n",
        "    print(\"\\nVocê é mais velho.\")\n",
        "elif idade_usuario < idade_outro:\n",
        "    print('')\n",
        "    print(\"\\nVocê é mais novo.\")\n",
        "else:\n",
        "    print('')\n",
        "    print(\"\\nVocês têm a mesma idade.\")\n"
      ],
      "metadata": {
        "colab": {
          "base_uri": "https://localhost:8080/",
          "height": 400
        },
        "id": "6_qFXf6OSDfk",
        "outputId": "9f01b867-8576-43e8-f328-5ef73d77e9b4"
      },
      "execution_count": 27,
      "outputs": [
        {
          "output_type": "stream",
          "name": "stdout",
          "text": [
            "Olá! Digite suas informações pessoais para continuar!\n",
            "\n"
          ]
        },
        {
          "output_type": "error",
          "ename": "KeyboardInterrupt",
          "evalue": "Interrupted by user",
          "traceback": [
            "\u001b[0;31m---------------------------------------------------------------------------\u001b[0m",
            "\u001b[0;31mKeyboardInterrupt\u001b[0m                         Traceback (most recent call last)",
            "\u001b[0;32m<ipython-input-27-31e9528b08d9>\u001b[0m in \u001b[0;36m<cell line: 0>\u001b[0;34m()\u001b[0m\n\u001b[1;32m      3\u001b[0m \u001b[0mlista_cli\u001b[0m \u001b[0;34m=\u001b[0m \u001b[0;34m{\u001b[0m\u001b[0;34m}\u001b[0m  \u001b[0;31m# Inicia a lista\u001b[0m\u001b[0;34m\u001b[0m\u001b[0;34m\u001b[0m\u001b[0m\n\u001b[1;32m      4\u001b[0m \u001b[0;34m\u001b[0m\u001b[0m\n\u001b[0;32m----> 5\u001b[0;31m \u001b[0mnome_usuario\u001b[0m \u001b[0;34m=\u001b[0m \u001b[0minput\u001b[0m\u001b[0;34m(\u001b[0m\u001b[0;34m'Digite o primeiro nome: '\u001b[0m\u001b[0;34m)\u001b[0m\u001b[0;34m\u001b[0m\u001b[0;34m\u001b[0m\u001b[0m\n\u001b[0m\u001b[1;32m      6\u001b[0m \u001b[0msobrenome_usuario\u001b[0m \u001b[0;34m=\u001b[0m \u001b[0minput\u001b[0m\u001b[0;34m(\u001b[0m\u001b[0;34m'Digite seu sobrenome: '\u001b[0m\u001b[0;34m)\u001b[0m\u001b[0;34m\u001b[0m\u001b[0;34m\u001b[0m\u001b[0m\n\u001b[1;32m      7\u001b[0m \u001b[0;34m\u001b[0m\u001b[0m\n",
            "\u001b[0;32m/usr/local/lib/python3.11/dist-packages/ipykernel/kernelbase.py\u001b[0m in \u001b[0;36mraw_input\u001b[0;34m(self, prompt)\u001b[0m\n\u001b[1;32m    849\u001b[0m                 \u001b[0;34m\"raw_input was called, but this frontend does not support input requests.\"\u001b[0m\u001b[0;34m\u001b[0m\u001b[0;34m\u001b[0m\u001b[0m\n\u001b[1;32m    850\u001b[0m             )\n\u001b[0;32m--> 851\u001b[0;31m         return self._input_request(str(prompt),\n\u001b[0m\u001b[1;32m    852\u001b[0m             \u001b[0mself\u001b[0m\u001b[0;34m.\u001b[0m\u001b[0m_parent_ident\u001b[0m\u001b[0;34m,\u001b[0m\u001b[0;34m\u001b[0m\u001b[0;34m\u001b[0m\u001b[0m\n\u001b[1;32m    853\u001b[0m             \u001b[0mself\u001b[0m\u001b[0;34m.\u001b[0m\u001b[0m_parent_header\u001b[0m\u001b[0;34m,\u001b[0m\u001b[0;34m\u001b[0m\u001b[0;34m\u001b[0m\u001b[0m\n",
            "\u001b[0;32m/usr/local/lib/python3.11/dist-packages/ipykernel/kernelbase.py\u001b[0m in \u001b[0;36m_input_request\u001b[0;34m(self, prompt, ident, parent, password)\u001b[0m\n\u001b[1;32m    893\u001b[0m             \u001b[0;32mexcept\u001b[0m \u001b[0mKeyboardInterrupt\u001b[0m\u001b[0;34m:\u001b[0m\u001b[0;34m\u001b[0m\u001b[0;34m\u001b[0m\u001b[0m\n\u001b[1;32m    894\u001b[0m                 \u001b[0;31m# re-raise KeyboardInterrupt, to truncate traceback\u001b[0m\u001b[0;34m\u001b[0m\u001b[0;34m\u001b[0m\u001b[0m\n\u001b[0;32m--> 895\u001b[0;31m                 \u001b[0;32mraise\u001b[0m \u001b[0mKeyboardInterrupt\u001b[0m\u001b[0;34m(\u001b[0m\u001b[0;34m\"Interrupted by user\"\u001b[0m\u001b[0;34m)\u001b[0m \u001b[0;32mfrom\u001b[0m \u001b[0;32mNone\u001b[0m\u001b[0;34m\u001b[0m\u001b[0;34m\u001b[0m\u001b[0m\n\u001b[0m\u001b[1;32m    896\u001b[0m             \u001b[0;32mexcept\u001b[0m \u001b[0mException\u001b[0m \u001b[0;32mas\u001b[0m \u001b[0me\u001b[0m\u001b[0;34m:\u001b[0m\u001b[0;34m\u001b[0m\u001b[0;34m\u001b[0m\u001b[0m\n\u001b[1;32m    897\u001b[0m                 \u001b[0mself\u001b[0m\u001b[0;34m.\u001b[0m\u001b[0mlog\u001b[0m\u001b[0;34m.\u001b[0m\u001b[0mwarning\u001b[0m\u001b[0;34m(\u001b[0m\u001b[0;34m\"Invalid Message:\"\u001b[0m\u001b[0;34m,\u001b[0m \u001b[0mexc_info\u001b[0m\u001b[0;34m=\u001b[0m\u001b[0;32mTrue\u001b[0m\u001b[0;34m)\u001b[0m\u001b[0;34m\u001b[0m\u001b[0;34m\u001b[0m\u001b[0m\n",
            "\u001b[0;31mKeyboardInterrupt\u001b[0m: Interrupted by user"
          ]
        }
      ]
    },
    {
      "cell_type": "markdown",
      "source": [],
      "metadata": {
        "id": "wEqzoL73a1l3"
      }
    }
  ]
}